{
 "cells": [
  {
   "cell_type": "code",
   "execution_count": null,
   "id": "820d8675",
   "metadata": {},
   "outputs": [
    {
     "name": "stdout",
     "output_type": "stream",
     "text": [
      "{'introduction': {'type': 'string', 'description': 'An introduction extracted from the document'}, 'architecture_overview': {'type': 'string', 'description': 'The architecture overview'}, 'communication_protocols': ['gRPC', 'https', 'REST/JSON']}\n"
     ]
    }
   ],
   "source": [
    "from typing import get_type_hints, get_args, get_origin, Annotated, Literal, List\n",
    "import msgspec\n",
    "\n",
    "def struct_to_llm_schema(cls) -> dict:\n",
    "    type_hints = get_type_hints(cls, include_extras=True)\n",
    "    schema = {}\n",
    "\n",
    "    for field_name, annotated_type in type_hints.items():\n",
    "        if get_origin(annotated_type) is Annotated:\n",
    "            base_type, *annotations = get_args(annotated_type)\n",
    "            description = annotations[0] if annotations else \"\"\n",
    "        else:\n",
    "            base_type = annotated_type\n",
    "            description = \"\"\n",
    "\n",
    "        origin = get_origin(base_type)\n",
    "        args = get_args(base_type)\n",
    "\n",
    "        if origin is Literal:\n",
    "            field_type = list(args)\n",
    "        elif origin in (list, List) and get_origin(args[0]) is Literal:\n",
    "            field_type = list(get_args(args[0]))\n",
    "        elif base_type is str:\n",
    "            field_type = \"string\"\n",
    "        elif base_type is int:\n",
    "            field_type = \"integer\"\n",
    "        elif base_type is float:\n",
    "            field_type = \"float\"\n",
    "        elif base_type is bool:\n",
    "            field_type = \"boolean\"\n",
    "        else:\n",
    "            field_type = str(base_type)\n",
    "\n",
    "        if description:\n",
    "            schema[field_name] = {\n",
    "                \"type\": field_type,\n",
    "                \"description\": description\n",
    "            }\n",
    "        else:\n",
    "            schema[field_name] = field_type\n",
    "\n",
    "    return schema\n",
    "\n",
    "\n",
    "class DocumentExtraction(msgspec.Struct):\n",
    "    introduction: Annotated[str, \"An introduction extracted from the document\"]\n",
    "    architecture_overview: Annotated[str, \"The architecture overview\"]\n",
    "    communication_protocols: List[Literal[\"gRPC\", \"https\", \"REST/JSON\"]]\n",
    "\n",
    "\n",
    "print(struct_to_llm_schema(DocumentExtraction))\n"
   ]
  },
  {
   "cell_type": "code",
   "execution_count": 5,
   "id": "04d33279",
   "metadata": {},
   "outputs": [],
   "source": [
    "result = msgspec.json.decode(\"{\\\"introduction\\\": \\\"This document outlines the design and implementation details of the Acme Microservice Framework.\\\", \\\"architecture_overview\\\": \\\"The system follows a modular microservices architecture, comprising of independent services that communicate via defined APIs. Each service is containerized using Docker and deployed using Kubernetes.\\\", \\\"communication_protocols\\\": [\\\"gRPC\\\", \\\"REST/JSON\\\"]}\", type=DocumentExtraction)"
   ]
  },
  {
   "cell_type": "code",
   "execution_count": 6,
   "id": "7e98ce9d",
   "metadata": {},
   "outputs": [
    {
     "name": "stdout",
     "output_type": "stream",
     "text": [
      "DocumentExtraction(introduction='This document outlines the design and implementation details of the Acme Microservice Framework.', architecture_overview='The system follows a modular microservices architecture, comprising of independent services that communicate via defined APIs. Each service is containerized using Docker and deployed using Kubernetes.', communication_protocols=['gRPC', 'REST/JSON'])\n"
     ]
    }
   ],
   "source": [
    "print(result)"
   ]
  },
  {
   "cell_type": "code",
   "execution_count": null,
   "id": "23d39c7d",
   "metadata": {},
   "outputs": [],
   "source": []
  }
 ],
 "metadata": {
  "kernelspec": {
   "display_name": "python-prep-TgLEUu_Y-py3.11",
   "language": "python",
   "name": "python3"
  },
  "language_info": {
   "codemirror_mode": {
    "name": "ipython",
    "version": 3
   },
   "file_extension": ".py",
   "mimetype": "text/x-python",
   "name": "python",
   "nbconvert_exporter": "python",
   "pygments_lexer": "ipython3",
   "version": "3.11.5"
  }
 },
 "nbformat": 4,
 "nbformat_minor": 5
}
